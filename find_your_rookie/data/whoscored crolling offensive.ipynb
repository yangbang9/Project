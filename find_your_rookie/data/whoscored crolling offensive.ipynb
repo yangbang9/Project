{
 "cells": [
  {
   "cell_type": "code",
   "execution_count": 1,
   "id": "3e7a142f",
   "metadata": {},
   "outputs": [
    {
     "ename": "ModuleNotFoundError",
     "evalue": "No module named 'selenium'",
     "output_type": "error",
     "traceback": [
      "\u001b[1;31m---------------------------------------------------------------------------\u001b[0m",
      "\u001b[1;31mModuleNotFoundError\u001b[0m                       Traceback (most recent call last)",
      "\u001b[1;32mc:\\ex_han\\WEB\\find_your_rookie\\find_your_rookie\\data\\whoscored crolling offensive.ipynb 셀 1\u001b[0m in \u001b[0;36m<cell line: 5>\u001b[1;34m()\u001b[0m\n\u001b[0;32m      <a href='vscode-notebook-cell:/c%3A/ex_han/WEB/find_your_rookie/find_your_rookie/data/whoscored%20crolling%20offensive.ipynb#W0sZmlsZQ%3D%3D?line=1'>2</a>\u001b[0m \u001b[39mimport\u001b[39;00m \u001b[39mnumpy\u001b[39;00m \u001b[39mas\u001b[39;00m \u001b[39mnp\u001b[39;00m   \u001b[39m# 넘파이 : 숫자, 행렬 데이터 라이브러리\u001b[39;00m\n\u001b[0;32m      <a href='vscode-notebook-cell:/c%3A/ex_han/WEB/find_your_rookie/find_your_rookie/data/whoscored%20crolling%20offensive.ipynb#W0sZmlsZQ%3D%3D?line=3'>4</a>\u001b[0m \u001b[39mfrom\u001b[39;00m \u001b[39mbs4\u001b[39;00m \u001b[39mimport\u001b[39;00m BeautifulSoup    \u001b[39m# html 데이터를 전처리\u001b[39;00m\n\u001b[1;32m----> <a href='vscode-notebook-cell:/c%3A/ex_han/WEB/find_your_rookie/find_your_rookie/data/whoscored%20crolling%20offensive.ipynb#W0sZmlsZQ%3D%3D?line=4'>5</a>\u001b[0m \u001b[39mfrom\u001b[39;00m \u001b[39mselenium\u001b[39;00m \u001b[39mimport\u001b[39;00m webdriver   \u001b[39m# 웹 브라우저 자동화\u001b[39;00m\n\u001b[0;32m      <a href='vscode-notebook-cell:/c%3A/ex_han/WEB/find_your_rookie/find_your_rookie/data/whoscored%20crolling%20offensive.ipynb#W0sZmlsZQ%3D%3D?line=5'>6</a>\u001b[0m \u001b[39mfrom\u001b[39;00m \u001b[39mselenium\u001b[39;00m\u001b[39m.\u001b[39;00m\u001b[39mwebdriver\u001b[39;00m\u001b[39m.\u001b[39;00m\u001b[39mcommon\u001b[39;00m\u001b[39m.\u001b[39;00m\u001b[39mkeys\u001b[39;00m \u001b[39mimport\u001b[39;00m Keys\n\u001b[0;32m      <a href='vscode-notebook-cell:/c%3A/ex_han/WEB/find_your_rookie/find_your_rookie/data/whoscored%20crolling%20offensive.ipynb#W0sZmlsZQ%3D%3D?line=6'>7</a>\u001b[0m \u001b[39mimport\u001b[39;00m \u001b[39mchromedriver_autoinstaller\u001b[39;00m\n",
      "\u001b[1;31mModuleNotFoundError\u001b[0m: No module named 'selenium'"
     ]
    }
   ],
   "source": [
    "import pandas as pd  # 판다스 : 데이터분석 라이브러리\n",
    "import numpy as np   # 넘파이 : 숫자, 행렬 데이터 라이브러리\n",
    "\n",
    "from bs4 import BeautifulSoup    # html 데이터를 전처리\n",
    "from selenium import webdriver   # 웹 브라우저 자동화\n",
    "from selenium.webdriver.common.keys import Keys\n",
    "import chromedriver_autoinstaller\n",
    "from selenium.webdriver.common.by import By\n",
    "\n",
    "import time    # 서버와 통신할 때 중간중간 시간 지연. 보통은 1초\n",
    "from tqdm import tqdm_notebook   # for문 돌릴 때 진행상황을 %게이지로 알려준다.\n",
    "from pandas.io.html import read_html\n",
    "\n",
    "chrome_driver = 'C:\\Rselenium\\chromedriver'\n",
    "driver = webdriver.Chrome(chrome_driver)\n",
    "url = 'https://1xbet.whoscored.com'\n",
    "driver.get(url)\n",
    "\n",
    "driver.find_element(By.XPATH, r'//*[@id=\"popular-tournaments-list\"]/li[1]/a').click()\n",
    "\n",
    "driver.find_element(\"id\", \"seasons\").click()\n",
    "driver.find_element(By.XPATH, r'//*[@id=\"seasons\"]/option[2]').click()\n",
    "driver.find_element(By.XPATH, r'//*[@id=\"sub-navigation\"]/ul/li[4]/a').click()\n",
    "\n",
    "#click 'offensive' button\n",
    "def offensive (url, sleep_time) : \n",
    "    \n",
    "    time.sleep(1)\n",
    "    driver.find_element(By.XPATH, r'//*[@id=\"stage-top-player-stats-options\"]/li[3]/a').click()\n",
    "    driver.find_element(By.LINK_TEXT, \"All players\").click()\n",
    "# 구버전    driver.find_element_by_xpath(\"xPath\")\n",
    "# 신버전   driver.findElement(By.xpath(\"xPath\"))\n",
    "#get the total page number\n",
    "    time.sleep(1)\n",
    "    page = driver.find_element(\"id\", \"last\")\n",
    "    total_page =int(page.get_attribute('data-page'))\n",
    "    \n",
    "    df_offensive = pd.DataFrame(columns = ['Player', 'Player.1', 'Apps', 'Mins', 'Goals', 'Assists', 'SpG',\n",
    "           'KeyP', 'Drb', 'Fouled', 'Off', 'Disp', 'UnsTch', 'Rating'])\n",
    "\n",
    "\n",
    "    for i in np.arange(total_page)+1 :\n",
    "        time.sleep(1)\n",
    "        table = driver.find_element(By.XPATH, r'//*[@id=\"statistics-table-offensive\"]')\n",
    "        table_html= table.get_attribute('innerHTML')\n",
    "        df2 = read_html(table_html)[0]\n",
    "        df_offensive = pd.concat([df_offensive, df2], axis=0)\n",
    "        driver.find_element(By.LINK_TEXT, \"next\").click()\n",
    "\n",
    "    return(df_offensive)\n",
    "\n",
    "                      \n",
    "      \n",
    "df = offensive(url, 5)\n",
    "                            \n",
    "df = df.reset_index()\n",
    "df.drop(['index','Player'] , axis=1, inplace=True)\n",
    "spl = df['Player.1'].str.split(',')\n",
    "name = []\n",
    "for i in range(len(spl)):\n",
    "    a = spl[i][0]\n",
    "    name.append(a)\n",
    "df['name']= name\n",
    "age = []\n",
    "for i in range(len(spl)):\n",
    "    a = int(spl[i][1])\n",
    "    age.append(a)\n",
    "df['age'] = age\n",
    "position1 = []\n",
    "for i in range(len(spl)):\n",
    "    a = spl[i][2]\n",
    "    position1.append(a)\n",
    "df['position1']=position1\n",
    "position2 = []\n",
    "for i in range(len(spl)):\n",
    "    if len(spl[i]) > 3 :\n",
    "        a = spl[i][3]\n",
    "    else : a = np.nan\n",
    "    position2.append(a)\n",
    "df['position2'] = position2\n",
    "df.drop('Player.1', axis =1, inplace=True)\n",
    "df = df.iloc[:,[11,12,13,14,0,1,2,3,4,5,6,7,8,9,10]]\n",
    "df.to_csv(\"C:/Rselenium/offensive.csv\", sep=',')\n"
   ]
  }
 ],
 "metadata": {
  "kernelspec": {
   "display_name": "Python 3.9.5 64-bit",
   "language": "python",
   "name": "python3"
  },
  "language_info": {
   "codemirror_mode": {
    "name": "ipython",
    "version": 3
   },
   "file_extension": ".py",
   "mimetype": "text/x-python",
   "name": "python",
   "nbconvert_exporter": "python",
   "pygments_lexer": "ipython3",
   "version": "3.9.5"
  },
  "vscode": {
   "interpreter": {
    "hash": "a84a2f828caf096907e4771a69468901e9d4e8f678181f6131ff1c0d5de5f60b"
   }
  }
 },
 "nbformat": 4,
 "nbformat_minor": 5
}
