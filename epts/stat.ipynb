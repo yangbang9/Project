{
  "cells": [
    {
      "cell_type": "code",
      "execution_count": 1,
      "metadata": {
        "id": "YGnUlTrgr1wW"
      },
      "outputs": [],
      "source": [
        "import pandas as pd\n",
        "import numpy as np\n",
        "from gps_data2 import gps_data as gd\n",
        "\n",
        "# # 예제 데이터\n",
        "# data = {\n",
        "#     'time': pd.date_range(start='2023-10-04', periods=30, freq='S'),\n",
        "#     'lat': [37.123, 37.124, 37.125, 37.126, 37.127, 37.128, 37.129, 37.130, 37.131, 37.132,\n",
        "#             37.133, 37.134, 37.135, 37.136, 37.628968, 37.628970, 37.628972, 37.628974, 37.628976, 37.628978,\n",
        "#             37.62898, 37.628982, 37.628984, 37.628986, 37.62899, 37.628995, 37.628999, 37.629, 37.6295, 37.152],\n",
        "#     'long': [127.567, 127.568, 127.569, 127.570, 127.571, 127.572, 127.573, 127.574, 127.575, 127.576,\n",
        "#              127.577, 127.578, 127.579, 127.580, 127.0781, 127.0782, 127.0783, 127.0784, 127.0785, 127.0786,\n",
        "#              127.07863, 127.07866, 127.0787, 127.07872, 127.07877, 127.0788, 127.0789, 127.07895, 127.079, 127.0792],\n",
        "#     'speed': [10, 12, 14, 11, 9, 13, 15, 10, 12, 14, 11, 9, 13, 15, 10, 12, 14, 11, 9, 13, 15, 10, 12, 14, 11, 9, 13, 15, 10, 12],\n",
        "#     'accel': [[1.1, 2.2, 3.3], [1.2, 2.3, 3.4], [1.3, 2.4, 3.5], [1.4, 2.5, 3.6], [1.5, 2.6, 3.7],\n",
        "#               [1.6, 2.7, 3.8], [1.7, 2.8, 3.9], [1.8, 2.9, 3.0], [1.9, 3.0, 4.1], [2.0, 3.1, 4.2],\n",
        "#               [2.1, 3.2, 4.3], [2.2, 3.3, 4.4], [2.3, 3.4, 4.5], [2.4, 3.5, 4.6], [2.5, 3.6, 4.7],\n",
        "#               [2.6, 3.7, 4.8], [2.7, 3.8, 4.9], [2.8, 3.9, 5.0], [2.9, 4.0, 5.1], [3.0, 4.1, 5.2],\n",
        "#               [3.1, 4.2, 5.3], [3.2, 4.3, 5.4], [3.3, 4.4, 5.5], [3.4, 4.5, 5.6], [3.5, 4.6, 5.7],\n",
        "#               [3.6, 4.7, 5.8], [3.7, 4.8, 5.9], [3.8, 4.9, 6.0], [3.9, 5.0, 6.1], [4.0, 5.1, 6.2]],\n",
        "#     'gyro': [[0.1, 0.2, 0.3], [0.2, 0.3, 0.4], [0.3, 0.4, 0.5], [0.4, 0.5, 0.6], [0.5, 0.6, 0.7],\n",
        "#              [0.6, 0.7, 0.8], [0.7, 0.8, 0.9], [0.8, 0.9, 1.0], [0.9, 1.0, 1.1], [1.0, 1.1, 1.2],\n",
        "#              [1.1, 1.2, 1.3], [1.2, 1.3, 1.4], [1.3, 1.4, 1.5], [1.4, 1.5, 1.6], [1.5, 1.6, 1.7],\n",
        "#              [1.6, 1.7, 1.8], [1.7, 1.8, 1.9], [1.8, 1.9, 2.0], [1.9, 2.0, 2.1], [2.0, 2.1, 2.2],\n",
        "#              [2.1, 2.2, 2.3], [2.2, 2.3, 2.4], [2.3, 2.4, 2.5], [2.4, 2.5, 2.6], [2.5, 2.6, 2.7],\n",
        "#              [2.6, 2.7, 2.8], [2.7, 2.8, 2.9], [2.8, 2.9, 3.0], [2.9, 3.0, 3.1], [3.0, 3.1, 3.2]],\n",
        "#     'mag': [[4.1, 4.2, 4.3], [4.2, 4.3, 4.4], [4.3, 4.4, 4.5], [4.4, 4.5, 4.6], [4.5, 4.6, 4.7],\n",
        "#             [4.6, 4.7, 4.8], [4.7, 4.8, 4.9], [4.8, 4.9, 5.0], [4.9, 5.0, 5.1], [5.0, 5.1, 5.2],\n",
        "#             [5.1, 5.2, 5.3], [5.2, 5.3, 5.4], [5.3, 5.4, 5.5], [5.4, 5.5, 5.6], [5.5, 5.6, 5.7],\n",
        "#             [5.6, 5.7, 5.8], [5.7, 5.8, 5.9], [5.8, 5.9, 6.0], [5.9, 6.0, 6.1], [6.0, 6.1, 6.2],\n",
        "#             [6.1, 6.2, 6.3], [6.2, 6.3, 6.4], [6.3, 6.4, 6.5], [6.4, 6.5, 6.6], [6.5, 6.6, 6.7],\n",
        "#             [6.6, 6.7, 6.8], [6.7, 6.8, 6.9], [6.8, 6.9, 7.0], [6.9, 7.0, 7.1], [7.0, 7.1, 7.2]],\n",
        "#     'yaw': [10.0, 20.0, 30.0, 40.0, 50.0, 60.0, 70.0, 80.0, 90.0, 100.0,\n",
        "#             110.0, 120.0, 130.0, 140.0, 150.0, 160.0, 170.0, 180.0, 190.0, 200.0,\n",
        "#             210.0, 220.0, 230.0, 240.0, 250.0, 260.0, 270.0, 280.0, 290.0, 300.0]\n",
        "# }\n",
        "data = gd()\n",
        "\n",
        "\n",
        "df = pd.DataFrame(data)\n",
        "# df['time'] = df['time'].dt.strftime('%H:%M:%S')\n",
        "\n",
        "# 데이터 프레임 코드\n",
        "# speed 단위 km/h\n",
        "# accel 단위 m/s²\n"
      ]
    },
    {
      "cell_type": "code",
      "execution_count": 2,
      "metadata": {},
      "outputs": [
        {
          "data": {
            "text/html": [
              "<div>\n",
              "<style scoped>\n",
              "    .dataframe tbody tr th:only-of-type {\n",
              "        vertical-align: middle;\n",
              "    }\n",
              "\n",
              "    .dataframe tbody tr th {\n",
              "        vertical-align: top;\n",
              "    }\n",
              "\n",
              "    .dataframe thead th {\n",
              "        text-align: right;\n",
              "    }\n",
              "</style>\n",
              "<table border=\"1\" class=\"dataframe\">\n",
              "  <thead>\n",
              "    <tr style=\"text-align: right;\">\n",
              "      <th></th>\n",
              "      <th>time</th>\n",
              "      <th>lat</th>\n",
              "      <th>long</th>\n",
              "      <th>accel</th>\n",
              "      <th>gyro</th>\n",
              "      <th>mag</th>\n",
              "      <th>speed</th>\n",
              "    </tr>\n",
              "  </thead>\n",
              "  <tbody>\n",
              "    <tr>\n",
              "      <th>0</th>\n",
              "      <td>8:53:41</td>\n",
              "      <td>37.630974</td>\n",
              "      <td>127.079552</td>\n",
              "      <td>[-0.06, -0.12, 0.84]</td>\n",
              "      <td>[32.41, -26.73, 13.18]</td>\n",
              "      <td>[12.49, -24.72, -97.35]</td>\n",
              "      <td>4.78</td>\n",
              "    </tr>\n",
              "    <tr>\n",
              "      <th>1</th>\n",
              "      <td>8:53:42</td>\n",
              "      <td>37.630959</td>\n",
              "      <td>127.079529</td>\n",
              "      <td>[0.05, -0.11, 0.82]</td>\n",
              "      <td>[16.3, -5.86, 18.43]</td>\n",
              "      <td>[14.34, -23.75, -98.75]</td>\n",
              "      <td>4.72</td>\n",
              "    </tr>\n",
              "    <tr>\n",
              "      <th>2</th>\n",
              "      <td>8:53:43</td>\n",
              "      <td>37.630947</td>\n",
              "      <td>127.079529</td>\n",
              "      <td>[-0.1, 0.07, 1.08]</td>\n",
              "      <td>[-5.43, -4.7, 14.04]</td>\n",
              "      <td>[15.12, -26.23, -94.13]</td>\n",
              "      <td>5.01</td>\n",
              "    </tr>\n",
              "    <tr>\n",
              "      <th>3</th>\n",
              "      <td>8:53:44</td>\n",
              "      <td>37.630939</td>\n",
              "      <td>127.079544</td>\n",
              "      <td>[-0.06, 0.01, 1.12]</td>\n",
              "      <td>[0.43, -0.43, 14.77]</td>\n",
              "      <td>[14.07, -25.79, -94.21]</td>\n",
              "      <td>3.68</td>\n",
              "    </tr>\n",
              "    <tr>\n",
              "      <th>4</th>\n",
              "      <td>8:53:45</td>\n",
              "      <td>37.630928</td>\n",
              "      <td>127.079544</td>\n",
              "      <td>[-0.08, 0.01, 1.18]</td>\n",
              "      <td>[-26.49, -2.14, -6.59]</td>\n",
              "      <td>[14.23, -24.3, -94.42]</td>\n",
              "      <td>3.80</td>\n",
              "    </tr>\n",
              "    <tr>\n",
              "      <th>...</th>\n",
              "      <td>...</td>\n",
              "      <td>...</td>\n",
              "      <td>...</td>\n",
              "      <td>...</td>\n",
              "      <td>...</td>\n",
              "      <td>...</td>\n",
              "      <td>...</td>\n",
              "    </tr>\n",
              "    <tr>\n",
              "      <th>214</th>\n",
              "      <td>8:57:12</td>\n",
              "      <td>37.629597</td>\n",
              "      <td>127.078903</td>\n",
              "      <td>[-0.05, -0.06, 0.96]</td>\n",
              "      <td>[6.04, 9.34, 5.0]</td>\n",
              "      <td>[-33.28, 5.81, -99.23]</td>\n",
              "      <td>0.44</td>\n",
              "    </tr>\n",
              "    <tr>\n",
              "      <th>215</th>\n",
              "      <td>8:57:13</td>\n",
              "      <td>37.629597</td>\n",
              "      <td>127.078903</td>\n",
              "      <td>[0.07, 0.04, 1.03]</td>\n",
              "      <td>[-3.3, 6.41, 0.0]</td>\n",
              "      <td>[-34.01, 2.88, -101.72]</td>\n",
              "      <td>0.35</td>\n",
              "    </tr>\n",
              "    <tr>\n",
              "      <th>216</th>\n",
              "      <td>8:57:14</td>\n",
              "      <td>37.629597</td>\n",
              "      <td>127.078903</td>\n",
              "      <td>[-0.05, 0.0, 0.98]</td>\n",
              "      <td>[1.1, 1.22, -0.79]</td>\n",
              "      <td>[-34.25, 3.43, -102.55]</td>\n",
              "      <td>0.56</td>\n",
              "    </tr>\n",
              "    <tr>\n",
              "      <th>217</th>\n",
              "      <td>8:57:15</td>\n",
              "      <td>37.629601</td>\n",
              "      <td>127.078903</td>\n",
              "      <td>[-0.05, 0.0, 0.98]</td>\n",
              "      <td>[0.92, 1.46, -0.67]</td>\n",
              "      <td>[-34.2, 3.47, -102.67]</td>\n",
              "      <td>0.06</td>\n",
              "    </tr>\n",
              "    <tr>\n",
              "      <th>218</th>\n",
              "      <td>8:57:16</td>\n",
              "      <td>37.629601</td>\n",
              "      <td>127.078903</td>\n",
              "      <td>[-0.05, 0.0, 0.99]</td>\n",
              "      <td>[1.65, 1.22, -0.98]</td>\n",
              "      <td>[-34.16, 4.02, -102.04]</td>\n",
              "      <td>0.07</td>\n",
              "    </tr>\n",
              "  </tbody>\n",
              "</table>\n",
              "<p>219 rows × 7 columns</p>\n",
              "</div>"
            ],
            "text/plain": [
              "        time        lat        long                 accel   \n",
              "0    8:53:41  37.630974  127.079552  [-0.06, -0.12, 0.84]  \\\n",
              "1    8:53:42  37.630959  127.079529   [0.05, -0.11, 0.82]   \n",
              "2    8:53:43  37.630947  127.079529    [-0.1, 0.07, 1.08]   \n",
              "3    8:53:44  37.630939  127.079544   [-0.06, 0.01, 1.12]   \n",
              "4    8:53:45  37.630928  127.079544   [-0.08, 0.01, 1.18]   \n",
              "..       ...        ...         ...                   ...   \n",
              "214  8:57:12  37.629597  127.078903  [-0.05, -0.06, 0.96]   \n",
              "215  8:57:13  37.629597  127.078903    [0.07, 0.04, 1.03]   \n",
              "216  8:57:14  37.629597  127.078903    [-0.05, 0.0, 0.98]   \n",
              "217  8:57:15  37.629601  127.078903    [-0.05, 0.0, 0.98]   \n",
              "218  8:57:16  37.629601  127.078903    [-0.05, 0.0, 0.99]   \n",
              "\n",
              "                       gyro                      mag  speed  \n",
              "0    [32.41, -26.73, 13.18]  [12.49, -24.72, -97.35]   4.78  \n",
              "1      [16.3, -5.86, 18.43]  [14.34, -23.75, -98.75]   4.72  \n",
              "2      [-5.43, -4.7, 14.04]  [15.12, -26.23, -94.13]   5.01  \n",
              "3      [0.43, -0.43, 14.77]  [14.07, -25.79, -94.21]   3.68  \n",
              "4    [-26.49, -2.14, -6.59]   [14.23, -24.3, -94.42]   3.80  \n",
              "..                      ...                      ...    ...  \n",
              "214       [6.04, 9.34, 5.0]   [-33.28, 5.81, -99.23]   0.44  \n",
              "215       [-3.3, 6.41, 0.0]  [-34.01, 2.88, -101.72]   0.35  \n",
              "216      [1.1, 1.22, -0.79]  [-34.25, 3.43, -102.55]   0.56  \n",
              "217     [0.92, 1.46, -0.67]   [-34.2, 3.47, -102.67]   0.06  \n",
              "218     [1.65, 1.22, -0.98]  [-34.16, 4.02, -102.04]   0.07  \n",
              "\n",
              "[219 rows x 7 columns]"
            ]
          },
          "execution_count": 2,
          "metadata": {},
          "output_type": "execute_result"
        }
      ],
      "source": []
    },
    {
      "cell_type": "code",
      "execution_count": 3,
      "metadata": {
        "id": "aQCLg1fDxCJx"
      },
      "outputs": [],
      "source": [
        "import pandas as pd\n",
        "\n",
        "# 주어진 데이터 프레임\n",
        "# (이전에 제공한 데이터 프레임 df를 그대로 사용합니다)\n",
        "\n",
        "# 주어진 네 개의 점을 이용하여 사각형의 경계를 정의합니다.\n",
        "# 네 개의 점을 정렬하여 경계 상하좌우의 경계값을 얻습니다.\n",
        "min_lat = min([37.629898330320025, 37.62896821245132, 37.62908585997369, 37.630013726859346])\n",
        "max_lat = max([37.629898330320025, 37.62896821245132, 37.62908585997369, 37.630013726859346])\n",
        "min_lon = min([127.07901992155236, 127.07879519947637, 127.07801365788048, 127.07823836821488])\n",
        "max_lon = max([127.07901992155236, 127.07879519947637, 127.07801365788048, 127.07823836821488])\n",
        "\n",
        "# 경계를 벗어나지 않는 데이터만 선택합니다.\n",
        "filtered_df = df[(df['lat'] >= min_lat) & (df['lat'] <= max_lat) & (df['long'] >= min_lon) & (df['long'] <= max_lon)]\n",
        "\n",
        "# 결과 데이터프레임을 확인합니다.\n",
        "\n",
        "\n",
        "# 운동장 내부의 데이터만 사용하도록 필터링"
      ]
    },
    {
      "cell_type": "code",
      "execution_count": 4,
      "metadata": {
        "colab": {
          "base_uri": "https://localhost:8080/"
        },
        "id": "qUiMQTyO1hc9",
        "outputId": "b74cb5c8-7c66-453f-8349-17937f5977e8"
      },
      "outputs": [
        {
          "name": "stdout",
          "output_type": "stream",
          "text": [
            "Playing Time: 0 days 00:00:13\n"
          ]
        },
        {
          "name": "stderr",
          "output_type": "stream",
          "text": [
            "<ipython-input-4-39cebed00cb7>:7: SettingWithCopyWarning: \n",
            "A value is trying to be set on a copy of a slice from a DataFrame.\n",
            "Try using .loc[row_indexer,col_indexer] = value instead\n",
            "\n",
            "See the caveats in the documentation: https://pandas.pydata.org/pandas-docs/stable/user_guide/indexing.html#returning-a-view-versus-a-copy\n",
            "  filtered_df['time'] = pd.to_datetime(filtered_df['time'], format='%H:%M:%S')\n",
            "<ipython-input-4-39cebed00cb7>:10: SettingWithCopyWarning: \n",
            "A value is trying to be set on a copy of a slice from a DataFrame\n",
            "\n",
            "See the caveats in the documentation: https://pandas.pydata.org/pandas-docs/stable/user_guide/indexing.html#returning-a-view-versus-a-copy\n",
            "  filtered_df.sort_values(by='time', inplace=True)\n"
          ]
        }
      ],
      "source": [
        "import pandas as pd\n",
        "\n",
        "# 주어진 데이터 프레임\n",
        "# (이전에 제공한 데이터 프레임 filtered_df를 그대로 사용합니다)\n",
        "\n",
        "# 시간 문자열을 datetime 객체로 변환합니다.\n",
        "filtered_df['time'] = pd.to_datetime(filtered_df['time'], format='%H:%M:%S')\n",
        "\n",
        "# 시간 순으로 데이터프레임을 정렬합니다.\n",
        "filtered_df.sort_values(by='time', inplace=True)\n",
        "\n",
        "# 경계 상자 내부에 있었던 총 시간을 계산합니다.\n",
        "total_time_inside_boundary = filtered_df['time'].max() - filtered_df['time'].min()\n",
        "\n",
        "# 결과를 출력합니다.\n",
        "print(\"Playing Time:\", total_time_inside_boundary)\n",
        "\n",
        "# 총 경기 시간 코드"
      ]
    },
    {
      "cell_type": "code",
      "execution_count": null,
      "metadata": {
        "colab": {
          "base_uri": "https://localhost:8080/"
        },
        "id": "2hKlAbAk9t30",
        "outputId": "162f4f1e-8597-46fa-f2ff-406703fae971"
      },
      "outputs": [
        {
          "name": "stdout",
          "output_type": "stream",
          "text": [
            "Max Speed: 15\n"
          ]
        }
      ],
      "source": [
        "# 최고 속도\n",
        "max_speed = filtered_df['speed'].max()\n",
        "\n",
        "# 결과를 출력합니다.\n",
        "print(\"Max Speed:\", max_speed)\n",
        "\n",
        "# 최고 속도 코드"
      ]
    },
    {
      "cell_type": "code",
      "execution_count": null,
      "metadata": {
        "colab": {
          "base_uri": "https://localhost:8080/"
        },
        "id": "jV1Hry9vBktS",
        "outputId": "4d9814b6-55d0-4f66-a0e9-1702f87c9f08"
      },
      "outputs": [
        {
          "name": "stdout",
          "output_type": "stream",
          "text": [
            "Max Acceleration in XY Plane: 6.341135544995076\n"
          ]
        },
        {
          "name": "stderr",
          "output_type": "stream",
          "text": [
            "<ipython-input-47-d736c8125a4d>:4: SettingWithCopyWarning: \n",
            "A value is trying to be set on a copy of a slice from a DataFrame.\n",
            "Try using .loc[row_indexer,col_indexer] = value instead\n",
            "\n",
            "See the caveats in the documentation: https://pandas.pydata.org/pandas-docs/stable/user_guide/indexing.html#returning-a-view-versus-a-copy\n",
            "  filtered_df['x_accel'] = [accel[0] for accel in filtered_df['accel']]\n",
            "<ipython-input-47-d736c8125a4d>:5: SettingWithCopyWarning: \n",
            "A value is trying to be set on a copy of a slice from a DataFrame.\n",
            "Try using .loc[row_indexer,col_indexer] = value instead\n",
            "\n",
            "See the caveats in the documentation: https://pandas.pydata.org/pandas-docs/stable/user_guide/indexing.html#returning-a-view-versus-a-copy\n",
            "  filtered_df['y_accel'] = [accel[1] for accel in filtered_df['accel']]\n",
            "<ipython-input-47-d736c8125a4d>:6: SettingWithCopyWarning: \n",
            "A value is trying to be set on a copy of a slice from a DataFrame.\n",
            "Try using .loc[row_indexer,col_indexer] = value instead\n",
            "\n",
            "See the caveats in the documentation: https://pandas.pydata.org/pandas-docs/stable/user_guide/indexing.html#returning-a-view-versus-a-copy\n",
            "  filtered_df['accel_magnitude'] = np.sqrt(filtered_df['x_accel'] ** 2 + filtered_df['y_accel'] ** 2)\n"
          ]
        }
      ],
      "source": [
        "import numpy as np\n",
        "\n",
        "# x축 가속도와 y축 가속도를 사용하여 가속도의 크기 계산\n",
        "filtered_df['x_accel'] = [accel[0] for accel in filtered_df['accel']]\n",
        "filtered_df['y_accel'] = [accel[1] for accel in filtered_df['accel']]\n",
        "filtered_df['accel_magnitude'] = np.sqrt(filtered_df['x_accel'] ** 2 + filtered_df['y_accel'] ** 2)\n",
        "\n",
        "# 최고 가속도 출력\n",
        "max_acceleration = filtered_df['accel_magnitude'].max()\n",
        "print(\"Max Acceleration in XY Plane:\", max_acceleration)\n",
        "\n",
        "# 최고 가속도 코드"
      ]
    },
    {
      "cell_type": "code",
      "execution_count": null,
      "metadata": {
        "colab": {
          "base_uri": "https://localhost:8080/"
        },
        "id": "75qfSLNgHL-m",
        "outputId": "2650bc53-284a-4e32-f0ec-85e5be7e360f"
      },
      "outputs": [
        {
          "name": "stdout",
          "output_type": "stream",
          "text": [
            "Total Distance (in meters): 43.333333333333336\n"
          ]
        },
        {
          "name": "stderr",
          "output_type": "stream",
          "text": [
            "<ipython-input-48-99ce5fb1f00b>:2: SettingWithCopyWarning: \n",
            "A value is trying to be set on a copy of a slice from a DataFrame.\n",
            "Try using .loc[row_indexer,col_indexer] = value instead\n",
            "\n",
            "See the caveats in the documentation: https://pandas.pydata.org/pandas-docs/stable/user_guide/indexing.html#returning-a-view-versus-a-copy\n",
            "  filtered_df['time_diff'] = filtered_df['time'].diff().dt.total_seconds()\n",
            "<ipython-input-48-99ce5fb1f00b>:13: SettingWithCopyWarning: \n",
            "A value is trying to be set on a copy of a slice from a DataFrame.\n",
            "Try using .loc[row_indexer,col_indexer] = value instead\n",
            "\n",
            "See the caveats in the documentation: https://pandas.pydata.org/pandas-docs/stable/user_guide/indexing.html#returning-a-view-versus-a-copy\n",
            "  filtered_df['distance'] = filtered_df.apply(lambda row: calculate_distance(row['speed'], row['time_diff']), axis=1)\n"
          ]
        }
      ],
      "source": [
        "# 시간 간격을 계산하여 데이터프레임에 추가\n",
        "filtered_df['time_diff'] = filtered_df['time'].diff().dt.total_seconds()\n",
        "\n",
        "# 이동 거리를 계산하는 함수\n",
        "def calculate_distance(speed, time_diff):\n",
        "    # 속도를 미터/초로 변환 (1 km/h = 1000/3600 m/s)\n",
        "    speed_m_per_s = speed * 1000 / 3600\n",
        "    # 이동 거리 계산 (거리 = 속도 * 시간)\n",
        "    distance = speed_m_per_s * time_diff\n",
        "    return distance\n",
        "\n",
        "# 각 행에 대한 이동 거리를 계산하여 데이터프레임에 추가\n",
        "filtered_df['distance'] = filtered_df.apply(lambda row: calculate_distance(row['speed'], row['time_diff']), axis=1)\n",
        "\n",
        "# 총 이동 거리를 계산\n",
        "total_distance = filtered_df['distance'].sum()\n",
        "\n",
        "# 결과 출력\n",
        "print(\"Total Distance (in meters):\", total_distance)\n",
        "\n",
        "# 총 이동거리 코드"
      ]
    },
    {
      "cell_type": "code",
      "execution_count": null,
      "metadata": {
        "colab": {
          "base_uri": "https://localhost:8080/"
        },
        "id": "qGyJ4sd4O6us",
        "outputId": "39a359db-4733-454b-c718-c9146bd55969"
      },
      "outputs": [
        {
          "name": "stdout",
          "output_type": "stream",
          "text": [
            "Initial Zone: Section B\n",
            "Attack Zone: Section A\n",
            "Defense Zone: Section B\n"
          ]
        }
      ],
      "source": [
        "import pandas as pd\n",
        "\n",
        "# 주어진 데이터 프레임\n",
        "# (이전에 제공한 데이터 프레임 filtered_df를 그대로 사용합니다)\n",
        "\n",
        "# 'Section A'와 'Section B'를 정의하는 네 개의 점 좌표\n",
        "section_a = [(37.629898330320025, 127.07901992155236),\n",
        "            (37.629432146173485, 127.07890614255425),\n",
        "            (37.629549801926935, 127.07811326772533),\n",
        "            (37.630013726859346, 127.07823836821488)]\n",
        "\n",
        "section_b = [(37.629432146173485, 127.07890614255425),\n",
        "            (37.629549801926935, 127.07811326772533),\n",
        "            (37.62908585997369, 127.07801365788048),\n",
        "            (37.62896821245132, 127.07879519947637)]\n",
        "\n",
        "# 첫 데이터의 위도와 경도 (예시로 임의의 값 사용)\n",
        "initial_latitude = filtered_df.iloc[0]['lat']\n",
        "initial_longitude = filtered_df.iloc[0]['long']\n",
        "\n",
        "# 초기 위치가 어느 영역에 속하는지 판단\n",
        "def get_zone(initial_latitude, initial_longitude, section_a, section_b):\n",
        "    if (initial_latitude >= min(section_a, key=lambda x: x[0])[0] and\n",
        "        initial_latitude <= max(section_a, key=lambda x: x[0])[0] and\n",
        "        initial_longitude >= min(section_a, key=lambda x: x[1])[1] and\n",
        "        initial_longitude <= max(section_a, key=lambda x: x[1])[1]):\n",
        "        return 'Section A'\n",
        "    elif (initial_latitude >= min(section_b, key=lambda x: x[0])[0] and\n",
        "          initial_latitude <= max(section_b, key=lambda x: x[0])[0] and\n",
        "          initial_longitude >= min(section_b, key=lambda x: x[1])[1] and\n",
        "          initial_longitude <= max(section_b, key=lambda x: x[1])[1]):\n",
        "        return 'Section B'\n",
        "    else:\n",
        "        return '알 수 없음'\n",
        "\n",
        "# 초기 위치에 따라 공격 진영과 수비 진영을 정의\n",
        "initial_zone = get_zone(initial_latitude, initial_longitude, section_a, section_b)\n",
        "attack_zone = 'Section A' if initial_zone == 'Section B' else 'Section B'\n",
        "defense_zone = 'Section A' if initial_zone == 'Section A' else 'Section B'\n",
        "\n",
        "# 결과 출력\n",
        "print(\"Initial Zone:\", initial_zone)\n",
        "print(\"Attack Zone:\", attack_zone)\n",
        "print(\"Defense Zone:\", defense_zone)\n",
        "\n",
        "# 공격 진영 수비 진영 정의 코드"
      ]
    },
    {
      "cell_type": "code",
      "execution_count": null,
      "metadata": {
        "colab": {
          "base_uri": "https://localhost:8080/"
        },
        "id": "apv1r7zAkPhX",
        "outputId": "428e748f-8b8d-4512-8044-42f83604fb69"
      },
      "outputs": [
        {
          "name": "stdout",
          "output_type": "stream",
          "text": [
            "Initial Zone: Section B\n",
            "Defense Zone: Section B\n",
            "Attack Zone: Section A\n",
            "Time In Attack Zone: 0\n",
            "Time In Defense Zone: 14\n"
          ]
        },
        {
          "name": "stderr",
          "output_type": "stream",
          "text": [
            "<ipython-input-50-c2f848c38b9d>:44: SettingWithCopyWarning: \n",
            "A value is trying to be set on a copy of a slice from a DataFrame.\n",
            "Try using .loc[row_indexer,col_indexer] = value instead\n",
            "\n",
            "See the caveats in the documentation: https://pandas.pydata.org/pandas-docs/stable/user_guide/indexing.html#returning-a-view-versus-a-copy\n",
            "  filtered_df['zone'] = initial_zone\n"
          ]
        }
      ],
      "source": [
        "import pandas as pd\n",
        "\n",
        "# 주어진 데이터 프레임\n",
        "# (이전에 제공한 데이터 프레임 filtered_df를 그대로 사용합니다)\n",
        "\n",
        "# 'Section A'와 'Section B'를 정의하는 네 개의 점 좌표\n",
        "section_a = [(37.629898330320025, 127.07901992155236),\n",
        "            (37.629432146173485, 127.07890614255425),\n",
        "            (37.629549801926935, 127.07811326772533),\n",
        "            (37.630013726859346, 127.07823836821488)]\n",
        "\n",
        "section_b = [(37.629432146173485, 127.07890614255425),\n",
        "            (37.629549801926935, 127.07811326772533),\n",
        "            (37.62908585997369, 127.07801365788048),\n",
        "            (37.62896821245132, 127.07879519947637)]\n",
        "\n",
        "# 첫 데이터의 위도와 경도 (예시로 임의의 값 사용)\n",
        "initial_latitude = filtered_df.iloc[0]['lat']\n",
        "initial_longitude = filtered_df.iloc[0]['long']\n",
        "\n",
        "# 초기 위치가 어느 영역에 속하는지 판단\n",
        "def get_zone(initial_latitude, initial_longitude, section_a, section_b):\n",
        "    if (initial_latitude >= min(section_a, key=lambda x: x[0])[0] and\n",
        "        initial_latitude <= max(section_a, key=lambda x: x[0])[0] and\n",
        "        initial_longitude >= min(section_a, key=lambda x: x[1])[1] and\n",
        "        initial_longitude <= max(section_a, key=lambda x: x[1])[1]):\n",
        "        return 'Section A'\n",
        "    elif (initial_latitude >= min(section_b, key=lambda x: x[0])[0] and\n",
        "          initial_latitude <= max(section_b, key=lambda x: x[0])[0] and\n",
        "          initial_longitude >= min(section_b, key=lambda x: x[1])[1] and\n",
        "          initial_longitude <= max(section_b, key=lambda x: x[1])[1]):\n",
        "        return 'Section B'\n",
        "    else:\n",
        "        return '알 수 없음'\n",
        "\n",
        "# 초기 위치에 따라 공격 진영과 수비 진영을 정의\n",
        "initial_zone = get_zone(initial_latitude, initial_longitude, section_a, section_b)\n",
        "attack_zone_a = 'Section A' if initial_zone == 'Section B' else 'Section B'\n",
        "defense_zone_a = 'Section A' if initial_zone == 'Section A' else 'Section B'\n",
        "attack_zone_b = 'Section B' if initial_zone == 'Section A' else 'Section A'\n",
        "defense_zone_b = 'Section B' if initial_zone == 'Section B' else 'Section A'\n",
        "\n",
        "# 'zone' 열 정의\n",
        "filtered_df['zone'] = initial_zone\n",
        "\n",
        "# 각 영역에 머문 총 시간 계산\n",
        "total_time_in_attack_zone_a = filtered_df[filtered_df['zone'] == attack_zone_a]['time'].count()\n",
        "total_time_in_defense_zone_a = filtered_df[filtered_df['zone'] == defense_zone_a]['time'].count()\n",
        "total_time_in_attack_zone_b = filtered_df[filtered_df['zone'] == attack_zone_b]['time'].count()\n",
        "total_time_in_defense_zone_b = filtered_df[filtered_df['zone'] == defense_zone_b]['time'].count()\n",
        "\n",
        "# 결과 출력\n",
        "print(\"Initial Zone:\", initial_zone)\n",
        "if initial_zone == 'Section A':\n",
        "    print(\"Defense Zone:\", defense_zone_a)\n",
        "    print(\"Attack Zone:\", attack_zone_a)\n",
        "    print(\"Time In Attack Zone:\", total_time_in_attack_zone_a)\n",
        "    print(\"Time In Defense Zone:\", total_time_in_defense_zone_a)\n",
        "else:\n",
        "    print(\"Defense Zone:\", defense_zone_b)\n",
        "    print(\"Attack Zone:\", attack_zone_b)\n",
        "    print(\"Time In Attack Zone:\", total_time_in_attack_zone_b)\n",
        "    print(\"Time In Defense Zone:\", total_time_in_defense_zone_b)\n",
        "\n",
        "# 공격 진영 수비 진영에 있었던 시간 코드"
      ]
    },
    {
      "cell_type": "code",
      "execution_count": null,
      "metadata": {
        "id": "Zy5fXyumSUi1"
      },
      "outputs": [],
      "source": []
    },
    {
      "cell_type": "code",
      "execution_count": null,
      "metadata": {
        "colab": {
          "base_uri": "https://localhost:8080/"
        },
        "id": "tWE5wmUzKC14",
        "outputId": "89bd6580-6f2b-46fc-beea-9ad7667fc4b5"
      },
      "outputs": [
        {
          "name": "stdout",
          "output_type": "stream",
          "text": [
            "Distance per Minute: 200.0\n",
            "Score: 100\n"
          ]
        }
      ],
      "source": [
        "# Total Distance를 미터(m) 단위로 가져옵니다.\n",
        "total_distance = filtered_df['distance'].sum()\n",
        "\n",
        "# Playing Time을 분(min) 단위로 가져옵니다.\n",
        "total_time_inside_boundary = (filtered_df['time'].max() - filtered_df['time'].min()).total_seconds() / 60\n",
        "\n",
        "# Total Distance/Playing Time을 계산합니다.\n",
        "distance_per_minute = total_distance / total_time_inside_boundary\n",
        "\n",
        "# Distance per Minute 값을 기반으로 점수를 계산합니다.\n",
        "if distance_per_minute >= 135:\n",
        "    score = 100\n",
        "elif distance_per_minute <= 60:\n",
        "    score = 25\n",
        "else:\n",
        "    score = 25 + int((distance_per_minute - 60))\n",
        "\n",
        "# 결과를 출력합니다.\n",
        "print(\"Distance per Minute:\", distance_per_minute)\n",
        "print(\"Score:\", score)\n",
        "\n",
        "# 스태미나 점수 코드"
      ]
    },
    {
      "cell_type": "code",
      "execution_count": null,
      "metadata": {
        "colab": {
          "base_uri": "https://localhost:8080/"
        },
        "id": "Bbh3T0Cl78fH",
        "outputId": "76e8cd98-acd9-4163-dc6e-e312f6f3b083"
      },
      "outputs": [
        {
          "name": "stdout",
          "output_type": "stream",
          "text": [
            "Max Speed: 15\n",
            "Sprint Speed Score: 50\n"
          ]
        }
      ],
      "source": [
        "# 최고 속도\n",
        "max_speed = filtered_df['speed'].max()\n",
        "\n",
        "# 점수 계산\n",
        "if max_speed >= 35:\n",
        "    score_sprint_speed = 100\n",
        "elif max_speed <= 5:\n",
        "    score_sprint_speed = 25\n",
        "else:\n",
        "    score_sprint_speed = 25 + int((max_speed - 5) / 0.4)\n",
        "\n",
        "# 결과를 출력합니다.\n",
        "print(\"Max Speed:\", max_speed)\n",
        "print(\"Sprint Speed Score:\", score_sprint_speed)\n",
        "\n",
        "# 질주 속도 점수 코드"
      ]
    },
    {
      "cell_type": "code",
      "execution_count": null,
      "metadata": {
        "colab": {
          "base_uri": "https://localhost:8080/"
        },
        "id": "C1wEeNn-IlDp",
        "outputId": "38dfaa99-8d3b-469e-e453-da59ac36dd78"
      },
      "outputs": [
        {
          "name": "stdout",
          "output_type": "stream",
          "text": [
            "Max Acceleration: 6.341135544995076\n",
            "Acceleration Score: 68\n"
          ]
        }
      ],
      "source": [
        "# 최고 가속도 구하기\n",
        "max_acceleration = filtered_df['accel_magnitude'].max()\n",
        "\n",
        "# 점수 계산 함수\n",
        "def calculate_score(acceleration):\n",
        "    if acceleration <= 2:\n",
        "        score_acceleration = 25\n",
        "    elif acceleration >= 9.5:\n",
        "        score_acceleration = 100\n",
        "    else:\n",
        "        # 2에서 9.5 사이의 범위에서 0.1 단위로 점수 증가\n",
        "        score_acceleration = 25 + int((acceleration - 2) / 0.1)\n",
        "    return score_acceleration\n",
        "\n",
        "# 최고 가속도에 대한 점수 계산\n",
        "score_acceleration = calculate_score(max_acceleration)\n",
        "\n",
        "# 결과 출력\n",
        "print(\"Max Acceleration:\", max_acceleration)\n",
        "print(\"Acceleration Score:\", score_acceleration)\n",
        "\n",
        "# 가속 점수 코드"
      ]
    },
    {
      "cell_type": "code",
      "execution_count": null,
      "metadata": {
        "colab": {
          "base_uri": "https://localhost:8080/"
        },
        "id": "bDlpaa2kEwQt",
        "outputId": "faaad7d6-dbad-4395-b0f4-8ea0ba66f0f2"
      },
      "outputs": [
        {
          "name": "stdout",
          "output_type": "stream",
          "text": [
            "Time In Attack Zone / Playing Time: 0.0\n",
            "Aggression Score: 25\n"
          ]
        }
      ],
      "source": [
        "# 'attack_zone_a' 또는 'attack_zone_b'를 사용하여 해당 공격 진영에서 머문 시간을 구합니다.\n",
        "if initial_zone == 'Section A':\n",
        "    time_in_attack_zone = total_time_in_attack_zone_a\n",
        "else:\n",
        "    time_in_attack_zone = total_time_in_attack_zone_b\n",
        "\n",
        "# 'time_in_attack_zone'를 'total_time_inside_boundary'로 나누어 공격 진영에서 머문 시간의 비율을 계산합니다.\n",
        "attack_zone_time_ratio = time_in_attack_zone / total_time_inside_boundary\n",
        "\n",
        "# 비율에 따른 점수를 계산합니다.\n",
        "if attack_zone_time_ratio >= 0.9:\n",
        "    score_aggression = 100\n",
        "elif attack_zone_time_ratio <= 0.15:\n",
        "    score_aggression = 25\n",
        "else:\n",
        "    score_aggression = 25 + int((attack_zone_time_ratio - 0.15) / 0.01)\n",
        "\n",
        "# 결과를 출력합니다.\n",
        "print(\"Time In Attack Zone / Playing Time:\", attack_zone_time_ratio)\n",
        "print(\"Aggression Score:\", score_aggression)\n",
        "\n",
        "# 공격성 점수 코드"
      ]
    }
  ],
  "metadata": {
    "colab": {
      "provenance": []
    },
    "kernelspec": {
      "display_name": "Python 3",
      "name": "python3"
    },
    "language_info": {
      "codemirror_mode": {
        "name": "ipython",
        "version": 3
      },
      "file_extension": ".py",
      "mimetype": "text/x-python",
      "name": "python",
      "nbconvert_exporter": "python",
      "pygments_lexer": "ipython3",
      "version": "3.11.3"
    }
  },
  "nbformat": 4,
  "nbformat_minor": 0
}
